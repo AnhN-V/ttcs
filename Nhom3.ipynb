!pip install stockfish
from stockfish import Stockfish

!wget --no-check-certificate 'https://docs.google.com/uc?export=download&id=1YZnabQ4pBhvJgF1gMvBjnhbcfcHtbYWL' -O chess
!chmod +x /content/chess
nhom3 = Stockfish('/content/chess')
nhom3.set_depth(60)
nhom3.set_skill_level(20)
nhom3.get_parameters()

class Nhom3:
  def __init__(self) -> None:
    self.board = chess.Board()
  def update(self, fen):
    self.board.set_fen(fen)
  def getMove(self, fen):
    nhom3.set_fen_position(fen)
    return nhom3.get_best_move_time(2800)
